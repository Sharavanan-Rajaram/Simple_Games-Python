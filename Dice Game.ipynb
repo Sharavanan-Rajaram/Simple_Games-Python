{
 "cells": [
  {
   "cell_type": "raw",
   "metadata": {},
   "source": [
    "There is a game in which a player needs to roll a dice 6 times. If the sum of the results of the surface of the dice is greater than 25 then a person wins otherwise he losses.\n",
    "Input\t     Output\n",
    "\n",
    "4,6,4,6,1,6\t Wins\n",
    "5,3,2,1,1,4\t Loss"
   ]
  },
  {
   "cell_type": "code",
   "execution_count": null,
   "metadata": {},
   "outputs": [],
   "source": [
    "playerA=[]\n",
    "playerB=[]\n",
    "\n",
    "playerAname=input('Enter the player A name: ')\n",
    "playerBname=input('Enter the player B name: ')\n",
    "\n",
    "def game (ipA,ipB):\n",
    "    \n",
    "    opA=ipA.split(\",\")\n",
    "    opB=ipB.split(\",\")  \n",
    "    print(opA,opB)\n",
    "\n",
    "    for i,j in zip(opA,opB):\n",
    "        playerA.append(int(i))\n",
    "        playerB.append(int(j))\n",
    "\n",
    "    print(playerA,playerB)\n",
    "\n",
    "    countA=sum(playerA)\n",
    "    countB=sum(playerB)\n",
    "\n",
    "    if(countA > 25):\n",
    "        print(playerAname,'wins the game')\n",
    "    elif(countB > 25):\n",
    "        print(playerBname,'wins the game')\n",
    "    elif(countA==countB):\n",
    "        print('Draw')\n",
    "        \n",
    "ipA=input('Enter the PlayerA option:')\n",
    "ipB=input('Enter the PlayerB option:')\n",
    "\n",
    "game(ipA,ipB)"
   ]
  },
  {
   "cell_type": "raw",
   "metadata": {},
   "source": [
    "Sample OP:\n",
    "\n",
    "Enter the player A name:Sharan\n",
    "Enter the player B name:Rajaram\n",
    "Enter the PlayerA option:4,6,4,6,1,6\n",
    "Enter the PlayerB option:5,3,2,1,1,4\n",
    "['4', '6', '4', '6', '1', '6'] ['5', '3', '2', '1', '1', '4']\n",
    "[4, 6, 4, 6, 1, 6] [5, 3, 2, 1, 1, 4]\n",
    "Sharan wins the game"
   ]
  }
 ],
 "metadata": {
  "kernelspec": {
   "display_name": "Python 3",
   "language": "python",
   "name": "python3"
  },
  "language_info": {
   "codemirror_mode": {
    "name": "ipython",
    "version": 3
   },
   "file_extension": ".py",
   "mimetype": "text/x-python",
   "name": "python",
   "nbconvert_exporter": "python",
   "pygments_lexer": "ipython3",
   "version": "3.7.6"
  }
 },
 "nbformat": 4,
 "nbformat_minor": 4
}
