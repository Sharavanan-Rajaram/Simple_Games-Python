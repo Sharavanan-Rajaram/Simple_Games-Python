{
 "cells": [
  {
   "cell_type": "raw",
   "metadata": {},
   "source": [
    "Get 2 players name, get numbers from the players. count the turns and check for the multiple of 5 whichever players gets total as multiple of 5, in less number of turns, that player wins the game\n",
    "\n",
    "Steps:\n",
    "\n",
    "Get the player1 name\n",
    "Get the player2 name\n",
    "Create count & Get the Player1 number1 in var1\n",
    "if this var1 is not divisible by 5\n",
    "Get the Player1 number 2 and increment the count, loop will continue until the total is divisible by 5\n",
    "Print the count (i.e. number of turns)\n",
    "similarly for player2 (step 3 to 6)\n",
    "Check if the number of turns by player1 < Player 2, vice versa\n",
    "Accordingly print the winner (whoever has the lowest count/turns)"
   ]
  },
  {
   "cell_type": "code",
   "execution_count": null,
   "metadata": {},
   "outputs": [],
   "source": [
    "def game2():\n",
    "    \n",
    "    player1name=input('Give First player’s Name : ')\n",
    "    player2name=input('Give Second player’s Name : ')\n",
    "\n",
    "    countP1=1\n",
    "    countP2=1\n",
    "\n",
    "    player1input=int(input('Enter the number for player A:'))\n",
    "\n",
    "    while(player1input %5 !=0 ):\n",
    "        player1input_2=int(input('Enter the number for player A:'))\n",
    "        player1input=player1input+player1input_2\n",
    "        countP1+=1\n",
    "    print('Player 1 number of turns: ',countP1)\n",
    "\n",
    "    player2input=int(input('Enter the number for player B:'))\n",
    "\n",
    "    while(player2input %5 !=0 ):\n",
    "        player2input_2 =int(input('Enter the number for player A:'))\n",
    "        player2input =player2input+player2input_2\n",
    "        countP1+=1\n",
    "    print('Player 2 number of turns: ',countP2)\n",
    "\n",
    "\n",
    "    if(countP1 < countP2):\n",
    "        print(player1name,'takes',countP1, \"turns to receive the multiple of 5\")\n",
    "        print(player1name+'won the game')\n",
    "    else:\n",
    "        print(player2name,'takes',countP2, \"turns to receive the multiple of 5\")\n",
    "        print(player2name+' won the game')\n",
    "\n",
    "game2()"
   ]
  },
  {
   "cell_type": "raw",
   "metadata": {},
   "source": [
    "Sample OP:\n",
    "\n",
    "Give First player’s Name : M\n",
    "Give Second player’s Name : N\n",
    "Enter the number for player A:4\n",
    "Enter the number for player A:1\n",
    "Player 1 number of turns:  2\n",
    "Enter the number for player B:5\n",
    "Player 2 number of turns:  1\n",
    "N takes 1 turns to receive the multiple of 5\n",
    "N won the game"
   ]
  }
 ],
 "metadata": {
  "kernelspec": {
   "display_name": "Python 3",
   "language": "python",
   "name": "python3"
  },
  "language_info": {
   "codemirror_mode": {
    "name": "ipython",
    "version": 3
   },
   "file_extension": ".py",
   "mimetype": "text/x-python",
   "name": "python",
   "nbconvert_exporter": "python",
   "pygments_lexer": "ipython3",
   "version": "3.7.6"
  }
 },
 "nbformat": 4,
 "nbformat_minor": 4
}
